{
 "cells": [
  {
   "cell_type": "markdown",
   "metadata": {},
   "source": [
    "# 範例\n",
    "\n",
    "取得 SIFT 特徵\n",
    "\n",
    "- 轉成灰階圖片\n",
    "- 需要額外安裝 OpenCV 相關套件"
   ]
  },
  {
   "cell_type": "code",
   "execution_count": 4,
   "metadata": {},
   "outputs": [
    {
     "name": "stdout",
     "output_type": "stream",
     "text": [
      "Requirement already satisfied: opencv-contrib-python==3.4.2.16 in c:\\programdata\\anaconda3\\lib\\site-packages (3.4.2.16)\n",
      "Requirement already satisfied: numpy>=1.14.5 in c:\\programdata\\anaconda3\\lib\\site-packages (from opencv-contrib-python==3.4.2.16) (1.16.5)\n",
      "Note: you may need to restart the kernel to use updated packages.\n"
     ]
    }
   ],
   "source": [
    "#pip install opencv-contrib-python==3.4.2.16"
   ]
  },
  {
   "cell_type": "code",
   "execution_count": 1,
   "metadata": {},
   "outputs": [],
   "source": [
    "import numpy as np\n",
    "import cv2\n",
    "#print(cv2. __version__)\n",
    "img = cv2.imread('/Users/User/Documents/2nd_DL_CVMarathon/homework/Part01/lena.png')"
   ]
  },
  {
   "cell_type": "code",
   "execution_count": 2,
   "metadata": {
    "scrolled": true
   },
   "outputs": [],
   "source": [
    "# 轉灰階圖片\n",
    "img_gray = cv2.cvtColor(img, cv2.COLOR_BGR2GRAY)\n",
    "\n",
    "# 建立 SIFT 物件\n",
    "SIFT_detector = cv2.xfeatures2d.SIFT_create()\n",
    "\n",
    "# 取得 SIFT 關鍵點位置\n",
    "keypoints = SIFT_detector.detect(img_gray, None)\n",
    "\n",
    "#　畫圖 + 顯示圖片\n",
    "img_show = cv2.drawKeypoints(img_gray, keypoints, img)\n",
    "while True:\n",
    "    cv2.imshow('SIFT', img_show)\n",
    "    k = cv2.waitKey(0)\n",
    "    if k == 27:\n",
    "        cv2.destroyAllWindows()\n",
    "        break"
   ]
  },
  {
   "cell_type": "code",
   "execution_count": 3,
   "metadata": {},
   "outputs": [],
   "source": [
    "img_b = img[...,0]\n",
    "img_g = img[...,1]\n",
    "img_r = img[...,2]\n",
    "\n",
    "SIFT_detector = cv2.xfeatures2d.SIFT_create()\n",
    "\n",
    "keypoints_b = SIFT_detector.detect(img_b,None)\n",
    "keypoints_g = SIFT_detector.detect(img_g,None)\n",
    "keypoints_r = SIFT_detector.detect(img_r,None)\n",
    "\n",
    "img_show_b = cv2.drawKeypoints(img_b,keypoints_b,img)\n",
    "img_show_g = cv2.drawKeypoints(img_g,keypoints_g,img)\n",
    "img_show_r = cv2.drawKeypoints(img_r,keypoints_r,img)\n",
    "\n",
    "img_hstack = np.hstack((img_show_b,img_show_g,img_show_r))\n",
    "\n",
    "while True:\n",
    "    cv2.imshow('SIFT', img_show)\n",
    "    cv2.imshow('SIFT_bgr', img_hstack)\n",
    "    k = cv2.waitKey(0)\n",
    "    if k == 27:\n",
    "        cv2.destroyAllWindows()\n",
    "        break\n"
   ]
  },
  {
   "cell_type": "code",
   "execution_count": null,
   "metadata": {},
   "outputs": [],
   "source": []
  }
 ],
 "metadata": {
  "kernelspec": {
   "display_name": "Python 3",
   "language": "python",
   "name": "python3"
  },
  "language_info": {
   "codemirror_mode": {
    "name": "ipython",
    "version": 3
   },
   "file_extension": ".py",
   "mimetype": "text/x-python",
   "name": "python",
   "nbconvert_exporter": "python",
   "pygments_lexer": "ipython3",
   "version": "3.7.4"
  }
 },
 "nbformat": 4,
 "nbformat_minor": 2
}

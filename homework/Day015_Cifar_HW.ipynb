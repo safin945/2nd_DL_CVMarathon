{
 "cells": [
  {
   "cell_type": "markdown",
   "metadata": {},
   "source": [
    "## 『本次練習內容』\n",
    "#### 運用這幾天所學觀念搭建一個CNN分類器"
   ]
  },
  {
   "cell_type": "markdown",
   "metadata": {},
   "source": [
    "## 『本次練習目的』\n",
    "  #### 熟悉CNN分類器搭建步驟與原理\n",
    "  #### 學員們可以嘗試不同搭法，如使用不同的Maxpooling層，用GlobalAveragePooling取代Flatten等等"
   ]
  },
  {
   "cell_type": "code",
   "execution_count": 5,
   "metadata": {},
   "outputs": [],
   "source": [
    "from keras.models import Sequential\n",
    "from keras.layers import Convolution2D\n",
    "from keras.layers import MaxPooling2D\n",
    "from keras.layers import Flatten\n",
    "from keras.layers import Dense\n",
    "from keras.layers import Dropout\n",
    "from keras.layers import BatchNormalization\n",
    "from keras.datasets import cifar10\n",
    "import numpy as np\n",
    "import tensorflow as tf\n",
    "from sklearn.preprocessing import OneHotEncoder\n",
    "from keras import regularizers"
   ]
  },
  {
   "cell_type": "code",
   "execution_count": 2,
   "metadata": {},
   "outputs": [
    {
     "name": "stdout",
     "output_type": "stream",
     "text": [
      "Downloading data from https://www.cs.toronto.edu/~kriz/cifar-10-python.tar.gz\n",
      "170500096/170498071 [==============================] - 162s 1us/step\n",
      "(50000, 32, 32, 3)\n"
     ]
    }
   ],
   "source": [
    "(x_train, y_train), (x_test, y_test) = cifar10.load_data()\n",
    "\n",
    "print(x_train.shape) #(50000, 32, 32, 3)\n",
    "\n",
    "## Normalize Data\n",
    "def normalize(X_train,X_test):\n",
    "        mean = np.mean(X_train,axis=(0,1,2,3))\n",
    "        std = np.std(X_train, axis=(0, 1, 2, 3))\n",
    "        X_train = (X_train-mean)/(std+1e-7)\n",
    "        X_test = (X_test-mean)/(std+1e-7) \n",
    "        return X_train, X_test,mean,std\n",
    "    \n",
    "    \n",
    "## Normalize Training and Testset    \n",
    "x_train, x_test,mean_train,std_train = normalize(x_train, x_test) "
   ]
  },
  {
   "cell_type": "code",
   "execution_count": 3,
   "metadata": {},
   "outputs": [
    {
     "name": "stderr",
     "output_type": "stream",
     "text": [
      "C:\\ProgramData\\Anaconda3\\lib\\site-packages\\sklearn\\preprocessing\\_encoders.py:415: FutureWarning: The handling of integer data will change in version 0.22. Currently, the categories are determined based on the range [0, max(values)], while in the future they will be determined based on the unique values.\n",
      "If you want the future behaviour and silence this warning, you can specify \"categories='auto'\".\n",
      "In case you used a LabelEncoder before this OneHotEncoder to convert the categories to integers, then you can now use the OneHotEncoder directly.\n",
      "  warnings.warn(msg, FutureWarning)\n"
     ]
    }
   ],
   "source": [
    "## OneHot Label 由(None, 1)-(None, 10)\n",
    "## ex. label=2,變成[0,0,1,0,0,0,0,0,0,0]\n",
    "one_hot=OneHotEncoder()\n",
    "y_train=one_hot.fit_transform(y_train).toarray()\n",
    "y_test=one_hot.transform(y_test).toarray()"
   ]
  },
  {
   "cell_type": "code",
   "execution_count": 6,
   "metadata": {},
   "outputs": [
    {
     "name": "stderr",
     "output_type": "stream",
     "text": [
      "C:\\ProgramData\\Anaconda3\\lib\\site-packages\\ipykernel_launcher.py:20: UserWarning: Update your `Dense` call to the Keras 2 API: `Dense(activation=\"relu\", kernel_regularizer=<keras.reg..., units=100)`\n",
      "C:\\ProgramData\\Anaconda3\\lib\\site-packages\\ipykernel_launcher.py:23: UserWarning: Update your `Dense` call to the Keras 2 API: `Dense(activation=\"softmax\", units=10)`\n"
     ]
    },
    {
     "name": "stdout",
     "output_type": "stream",
     "text": [
      "Epoch 1/100\n",
      "50000/50000 [==============================] - 112s 2ms/step - loss: 1.5171 - acc: 0.5603\n",
      "Epoch 2/100\n",
      "50000/50000 [==============================] - 115s 2ms/step - loss: 1.0580 - acc: 0.7145\n",
      "Epoch 3/100\n",
      "50000/50000 [==============================] - 115s 2ms/step - loss: 0.8922 - acc: 0.7827\n",
      "Epoch 4/100\n",
      "50000/50000 [==============================] - 111s 2ms/step - loss: 0.8280 - acc: 0.8208\n",
      "Epoch 5/100\n",
      "50000/50000 [==============================] - 112s 2ms/step - loss: 0.7827 - acc: 0.8489\n",
      "Epoch 6/100\n",
      "50000/50000 [==============================] - 114s 2ms/step - loss: 0.7549 - acc: 0.8703\n",
      "Epoch 7/100\n",
      "50000/50000 [==============================] - 119s 2ms/step - loss: 0.7483 - acc: 0.8827\n",
      "Epoch 8/100\n",
      "50000/50000 [==============================] - 115s 2ms/step - loss: 0.7315 - acc: 0.8938\n",
      "Epoch 9/100\n",
      "50000/50000 [==============================] - 113s 2ms/step - loss: 0.7279 - acc: 0.9013\n",
      "Epoch 10/100\n",
      "50000/50000 [==============================] - 112s 2ms/step - loss: 0.7225 - acc: 0.9052\n",
      "Epoch 11/100\n",
      "50000/50000 [==============================] - 112s 2ms/step - loss: 0.7162 - acc: 0.9105\n",
      "Epoch 12/100\n",
      "50000/50000 [==============================] - 111s 2ms/step - loss: 0.7041 - acc: 0.9162\n",
      "Epoch 13/100\n",
      "50000/50000 [==============================] - 111s 2ms/step - loss: 0.6949 - acc: 0.9195\n",
      "Epoch 14/100\n",
      "50000/50000 [==============================] - 112s 2ms/step - loss: 0.7150 - acc: 0.9154\n",
      "Epoch 15/100\n",
      "50000/50000 [==============================] - 113s 2ms/step - loss: 0.6937 - acc: 0.9244\n",
      "Epoch 16/100\n",
      "50000/50000 [==============================] - 115s 2ms/step - loss: 0.6835 - acc: 0.9258\n",
      "Epoch 17/100\n",
      "50000/50000 [==============================] - 112s 2ms/step - loss: 0.6918 - acc: 0.9249\n",
      "Epoch 18/100\n",
      "50000/50000 [==============================] - 111s 2ms/step - loss: 0.6927 - acc: 0.9259\n",
      "Epoch 19/100\n",
      "50000/50000 [==============================] - 112s 2ms/step - loss: 0.6638 - acc: 0.9326\n",
      "Epoch 20/100\n",
      "50000/50000 [==============================] - 112s 2ms/step - loss: 0.6890 - acc: 0.9283\n",
      "Epoch 21/100\n",
      "50000/50000 [==============================] - 113s 2ms/step - loss: 0.6860 - acc: 0.9306\n",
      "Epoch 22/100\n",
      "50000/50000 [==============================] - 112s 2ms/step - loss: 0.6696 - acc: 0.9361\n",
      "Epoch 23/100\n",
      "50000/50000 [==============================] - 111s 2ms/step - loss: 0.6676 - acc: 0.9348\n",
      "Epoch 24/100\n",
      "50000/50000 [==============================] - 113s 2ms/step - loss: 0.6798 - acc: 0.9323\n",
      "Epoch 25/100\n",
      "50000/50000 [==============================] - 112s 2ms/step - loss: 0.6620 - acc: 0.9387\n",
      "Epoch 26/100\n",
      "50000/50000 [==============================] - 111s 2ms/step - loss: 0.6626 - acc: 0.9378\n",
      "Epoch 27/100\n",
      "50000/50000 [==============================] - 112s 2ms/step - loss: 0.6733 - acc: 0.9357\n",
      "Epoch 28/100\n",
      "50000/50000 [==============================] - 111s 2ms/step - loss: 0.6641 - acc: 0.9371\n",
      "Epoch 29/100\n",
      "50000/50000 [==============================] - 111s 2ms/step - loss: 0.6584 - acc: 0.9382\n",
      "Epoch 30/100\n",
      "50000/50000 [==============================] - 112s 2ms/step - loss: 0.6607 - acc: 0.9391\n",
      "Epoch 31/100\n",
      "50000/50000 [==============================] - 112s 2ms/step - loss: 0.6458 - acc: 0.9414\n",
      "Epoch 32/100\n",
      "50000/50000 [==============================] - 111s 2ms/step - loss: 0.6459 - acc: 0.9414\n",
      "Epoch 33/100\n",
      "50000/50000 [==============================] - 110s 2ms/step - loss: 0.6534 - acc: 0.9390\n",
      "Epoch 34/100\n",
      "50000/50000 [==============================] - 110s 2ms/step - loss: 0.6655 - acc: 0.9378\n",
      "Epoch 35/100\n",
      "50000/50000 [==============================] - 111s 2ms/step - loss: 0.6431 - acc: 0.9445\n",
      "Epoch 36/100\n",
      "50000/50000 [==============================] - 111s 2ms/step - loss: 0.6399 - acc: 0.9426\n",
      "Epoch 37/100\n",
      "50000/50000 [==============================] - 111s 2ms/step - loss: 0.6369 - acc: 0.9436\n",
      "Epoch 38/100\n",
      "50000/50000 [==============================] - 111s 2ms/step - loss: 0.6456 - acc: 0.9405\n",
      "Epoch 39/100\n",
      "50000/50000 [==============================] - 111s 2ms/step - loss: 0.6461 - acc: 0.9428\n",
      "Epoch 40/100\n",
      "50000/50000 [==============================] - 111s 2ms/step - loss: 0.6261 - acc: 0.9477\n",
      "Epoch 41/100\n",
      "50000/50000 [==============================] - 111s 2ms/step - loss: 0.6380 - acc: 0.9443\n",
      "Epoch 42/100\n",
      "50000/50000 [==============================] - 111s 2ms/step - loss: 0.6432 - acc: 0.9419\n",
      "Epoch 43/100\n",
      "50000/50000 [==============================] - 111s 2ms/step - loss: 0.6324 - acc: 0.9457\n",
      "Epoch 44/100\n",
      "50000/50000 [==============================] - 111s 2ms/step - loss: 0.6418 - acc: 0.9432\n",
      "Epoch 45/100\n",
      "50000/50000 [==============================] - 111s 2ms/step - loss: 0.6261 - acc: 0.9482\n",
      "Epoch 46/100\n",
      "50000/50000 [==============================] - 111s 2ms/step - loss: 0.6215 - acc: 0.9453\n",
      "Epoch 47/100\n",
      "50000/50000 [==============================] - 111s 2ms/step - loss: 0.6352 - acc: 0.9431\n",
      "Epoch 48/100\n",
      "50000/50000 [==============================] - 111s 2ms/step - loss: 0.6299 - acc: 0.9468\n",
      "Epoch 49/100\n",
      "50000/50000 [==============================] - 111s 2ms/step - loss: 0.6183 - acc: 0.9483\n",
      "Epoch 50/100\n",
      "50000/50000 [==============================] - 115s 2ms/step - loss: 0.6077 - acc: 0.9496\n",
      "Epoch 51/100\n",
      "50000/50000 [==============================] - 111s 2ms/step - loss: 0.6365 - acc: 0.9446\n",
      "Epoch 52/100\n",
      "50000/50000 [==============================] - 111s 2ms/step - loss: 0.6079 - acc: 0.9515\n",
      "Epoch 53/100\n",
      "50000/50000 [==============================] - 111s 2ms/step - loss: 0.6155 - acc: 0.9465\n",
      "Epoch 54/100\n",
      "50000/50000 [==============================] - 111s 2ms/step - loss: 0.6248 - acc: 0.9459\n",
      "Epoch 55/100\n",
      "50000/50000 [==============================] - 111s 2ms/step - loss: 0.6146 - acc: 0.9477\n",
      "Epoch 56/100\n",
      "50000/50000 [==============================] - 111s 2ms/step - loss: 0.6096 - acc: 0.9500\n",
      "Epoch 57/100\n",
      "50000/50000 [==============================] - 127s 3ms/step - loss: 0.6091 - acc: 0.9501\n",
      "Epoch 58/100\n",
      "50000/50000 [==============================] - 109s 2ms/step - loss: 0.5982 - acc: 0.9513\n",
      "Epoch 59/100\n",
      "50000/50000 [==============================] - 111s 2ms/step - loss: 0.6119 - acc: 0.9478\n",
      "Epoch 60/100\n",
      "50000/50000 [==============================] - 109s 2ms/step - loss: 0.6170 - acc: 0.9475\n",
      "Epoch 61/100\n",
      "50000/50000 [==============================] - 109s 2ms/step - loss: 0.6136 - acc: 0.9491\n",
      "Epoch 62/100\n",
      "50000/50000 [==============================] - 109s 2ms/step - loss: 0.6053 - acc: 0.9500\n",
      "Epoch 63/100\n",
      "50000/50000 [==============================] - 109s 2ms/step - loss: 0.5768 - acc: 0.9536\n",
      "Epoch 64/100\n",
      "50000/50000 [==============================] - 109s 2ms/step - loss: 0.5928 - acc: 0.9499\n",
      "Epoch 65/100\n",
      "50000/50000 [==============================] - 109s 2ms/step - loss: 0.6110 - acc: 0.9479\n",
      "Epoch 66/100\n",
      "50000/50000 [==============================] - 109s 2ms/step - loss: 0.5802 - acc: 0.9546\n",
      "Epoch 67/100\n",
      "50000/50000 [==============================] - 109s 2ms/step - loss: 0.5967 - acc: 0.9497\n",
      "Epoch 68/100\n",
      "50000/50000 [==============================] - 109s 2ms/step - loss: 0.6034 - acc: 0.9487\n",
      "Epoch 69/100\n",
      "50000/50000 [==============================] - 109s 2ms/step - loss: 0.5775 - acc: 0.9544\n",
      "Epoch 70/100\n",
      "50000/50000 [==============================] - 109s 2ms/step - loss: 0.5813 - acc: 0.9516\n",
      "Epoch 71/100\n",
      "50000/50000 [==============================] - 109s 2ms/step - loss: 0.5830 - acc: 0.9520\n",
      "Epoch 72/100\n",
      "50000/50000 [==============================] - 109s 2ms/step - loss: 0.5883 - acc: 0.9508\n",
      "Epoch 73/100\n",
      "50000/50000 [==============================] - 109s 2ms/step - loss: 0.5887 - acc: 0.9518\n",
      "Epoch 74/100\n",
      "50000/50000 [==============================] - 108s 2ms/step - loss: 0.5867 - acc: 0.9510\n",
      "Epoch 75/100\n",
      "50000/50000 [==============================] - 108s 2ms/step - loss: 0.5908 - acc: 0.9516\n",
      "Epoch 76/100\n",
      "50000/50000 [==============================] - 108s 2ms/step - loss: 0.5703 - acc: 0.9554\n",
      "Epoch 77/100\n",
      "50000/50000 [==============================] - 109s 2ms/step - loss: 0.5768 - acc: 0.9512\n",
      "Epoch 78/100\n",
      "50000/50000 [==============================] - 109s 2ms/step - loss: 0.5607 - acc: 0.9560\n",
      "Epoch 79/100\n",
      "50000/50000 [==============================] - 109s 2ms/step - loss: 0.5704 - acc: 0.9529\n",
      "Epoch 80/100\n"
     ]
    },
    {
     "name": "stdout",
     "output_type": "stream",
     "text": [
      "50000/50000 [==============================] - 108s 2ms/step - loss: 0.5891 - acc: 0.9495\n",
      "Epoch 81/100\n",
      "50000/50000 [==============================] - 109s 2ms/step - loss: 0.5849 - acc: 0.9517\n",
      "Epoch 82/100\n",
      "50000/50000 [==============================] - 108s 2ms/step - loss: 0.5634 - acc: 0.9555\n",
      "Epoch 83/100\n",
      "50000/50000 [==============================] - 109s 2ms/step - loss: 0.5685 - acc: 0.9535\n",
      "Epoch 84/100\n",
      "50000/50000 [==============================] - 108s 2ms/step - loss: 0.5708 - acc: 0.9537\n",
      "Epoch 85/100\n",
      "50000/50000 [==============================] - 109s 2ms/step - loss: 0.5786 - acc: 0.9525\n",
      "Epoch 86/100\n",
      "50000/50000 [==============================] - 108s 2ms/step - loss: 0.5744 - acc: 0.9536\n",
      "Epoch 87/100\n",
      "50000/50000 [==============================] - 109s 2ms/step - loss: 0.5567 - acc: 0.9552\n",
      "Epoch 88/100\n",
      "50000/50000 [==============================] - 109s 2ms/step - loss: 0.5601 - acc: 0.9546\n",
      "Epoch 89/100\n",
      "50000/50000 [==============================] - 108s 2ms/step - loss: 0.5603 - acc: 0.9537\n",
      "Epoch 90/100\n",
      "50000/50000 [==============================] - 108s 2ms/step - loss: 0.5589 - acc: 0.9549\n",
      "Epoch 91/100\n",
      "50000/50000 [==============================] - 109s 2ms/step - loss: 0.5624 - acc: 0.9539\n",
      "Epoch 92/100\n",
      "50000/50000 [==============================] - 108s 2ms/step - loss: 0.5501 - acc: 0.9569\n",
      "Epoch 93/100\n",
      "50000/50000 [==============================] - 108s 2ms/step - loss: 0.5611 - acc: 0.9537\n",
      "Epoch 94/100\n",
      "50000/50000 [==============================] - 110s 2ms/step - loss: 0.5643 - acc: 0.9538\n",
      "Epoch 95/100\n",
      "50000/50000 [==============================] - 110s 2ms/step - loss: 0.5519 - acc: 0.9560\n",
      "Epoch 96/100\n",
      "50000/50000 [==============================] - 111s 2ms/step - loss: 0.5442 - acc: 0.9567\n",
      "Epoch 97/100\n",
      "50000/50000 [==============================] - 110s 2ms/step - loss: 0.5574 - acc: 0.9536\n",
      "Epoch 98/100\n",
      "50000/50000 [==============================] - 112s 2ms/step - loss: 0.5788 - acc: 0.9508\n",
      "Epoch 99/100\n",
      "50000/50000 [==============================] - 112s 2ms/step - loss: 0.5514 - acc: 0.9583\n",
      "Epoch 100/100\n",
      "50000/50000 [==============================] - 113s 2ms/step - loss: 0.5277 - acc: 0.9592\n"
     ]
    },
    {
     "data": {
      "text/plain": [
       "<keras.callbacks.History at 0x1ae0ded5e48>"
      ]
     },
     "execution_count": 6,
     "metadata": {},
     "output_type": "execute_result"
    }
   ],
   "source": [
    "\n",
    "classifier=Sequential()\n",
    "\n",
    "#卷積組合\n",
    "#32,3,3,input_shape=(32,32,3),activation='relu''\n",
    "classifier.add(Convolution2D(filters=32,kernel_size=(3,3),padding='same',input_shape = (32,32,3),activation='relu'))\n",
    "classifier.add(BatchNormalization(momentum = 0.99,epsilon=0.0001))\n",
    "\n",
    "'''自己決定MaxPooling2D放在哪裡'''\n",
    "classifier.add(MaxPooling2D(pool_size=(2,2)))\n",
    "\n",
    "#卷積組合\n",
    "classifier.add(Convolution2D(32, kernel_size=(3, 3),activation='relu'))\n",
    "classifier.add(BatchNormalization(momentum = 0.99,epsilon=0.0001))\n",
    "\n",
    "#flatten\n",
    "classifier.add(Flatten())\n",
    "\n",
    "#FC\n",
    "#output_dim=100,activation=relu\n",
    "classifier.add(Dense(output_dim=100,activation='relu',kernel_regularizer=regularizers.l2(0.001))) \n",
    "\n",
    "#輸出\n",
    "classifier.add(Dense(output_dim=10,activation='softmax'))\n",
    "\n",
    "#超過兩個就要選categorical_crossentrophy\n",
    "classifier.compile(optimizer = 'adam', loss = 'categorical_crossentropy', metrics = ['accuracy'])\n",
    "classifier.fit(x_train,y_train,batch_size=100,epochs=100)"
   ]
  },
  {
   "cell_type": "markdown",
   "metadata": {},
   "source": [
    "## 預測新圖片，輸入影像前處理要與訓練時相同\n",
    "#### ((X-mean)/(std+1e-7) ):這裡的mean跟std是訓練集的\n",
    "## 維度如下方示範"
   ]
  },
  {
   "cell_type": "code",
   "execution_count": 7,
   "metadata": {},
   "outputs": [
    {
     "data": {
      "text/plain": [
       "array([[2.9773044e-04, 1.2186054e-09, 1.5690826e-03, 9.9718469e-01,\n",
       "        2.9653051e-05, 4.3160799e-06, 1.4436281e-06, 2.6072723e-05,\n",
       "        8.8714616e-04, 1.4156354e-10]], dtype=float32)"
      ]
     },
     "execution_count": 7,
     "metadata": {},
     "output_type": "execute_result"
    }
   ],
   "source": [
    "input_example=(np.zeros(shape=(1,32,32,3))-mean_train)/(std_train+1e-7) \n",
    "classifier.predict(input_example)"
   ]
  },
  {
   "cell_type": "code",
   "execution_count": null,
   "metadata": {},
   "outputs": [],
   "source": []
  }
 ],
 "metadata": {
  "kernelspec": {
   "display_name": "Python 3",
   "language": "python",
   "name": "python3"
  },
  "language_info": {
   "codemirror_mode": {
    "name": "ipython",
    "version": 3
   },
   "file_extension": ".py",
   "mimetype": "text/x-python",
   "name": "python",
   "nbconvert_exporter": "python",
   "pygments_lexer": "ipython3",
   "version": "3.6.9"
  }
 },
 "nbformat": 4,
 "nbformat_minor": 2
}

{
 "cells": [
  {
   "cell_type": "markdown",
   "metadata": {},
   "source": [
    "# 作業\n",
    "\n",
    "思考一下我們前面有提到圖片是矩陣，但維度可能會不一樣\n",
    "例如灰階圖只有兩個維度，RGB 彩圖則有 3 個維度\n",
    "\n",
    "假如今天我們把 RGB 3 個維度拆開來看會有甚麼不同的效果呢？"
   ]
  },
  {
   "cell_type": "code",
   "execution_count": 14,
   "metadata": {},
   "outputs": [],
   "source": [
    "#可以得到RGB三種顏色不同的影像\n",
    "import numpy as np\n",
    "import cv2\n",
    "\n",
    "img_path = '/Users/user/Documents/2nd_DL_CVMarathon/homework/Part01/lena.png'\n",
    "\n",
    "# 以彩色圖片的方式載入\n",
    "image = cv2.imread(img_path, cv2.IMREAD_COLOR)\n",
    "# split image to BGR three channels\n",
    "# opencv color format is BGR not RGB\n",
    "(img_B,img_G,img_R) = cv2.split(image)\n",
    "\n",
    "while True:\n",
    "    # 顯示B\n",
    "    cv2.imshow('b', image[...,0])\n",
    "    cv2.imshow('b1',img_B)\n",
    "    cv2.imshow('b2', image[...,-3])\n",
    "    # 顯示G\n",
    "    cv2.imshow('g', image[...,1])\n",
    "    cv2.imshow('g1',img_G)\n",
    "    cv2.imshow('g2', image[...,-2])\n",
    "    # 顯示R\n",
    "    cv2.imshow('r', image[...,2])\n",
    "    cv2.imshow('r1',img_R)\n",
    "    cv2.imshow('r2', image[...,-1])\n",
    "    # 直到按下 ESC 鍵才會自動關閉視窗結束程式\n",
    "    k = cv2.waitKey(0)\n",
    "    if k == 27:\n",
    "        cv2.destroyAllWindows()\n",
    "        break\n"
   ]
  },
  {
   "cell_type": "code",
   "execution_count": null,
   "metadata": {},
   "outputs": [],
   "source": []
  }
 ],
 "metadata": {
  "kernelspec": {
   "display_name": "Python 3",
   "language": "python",
   "name": "python3"
  },
  "language_info": {
   "codemirror_mode": {
    "name": "ipython",
    "version": 3
   },
   "file_extension": ".py",
   "mimetype": "text/x-python",
   "name": "python",
   "nbconvert_exporter": "python",
   "pygments_lexer": "ipython3",
   "version": "3.7.4"
  }
 },
 "nbformat": 4,
 "nbformat_minor": 2
}
